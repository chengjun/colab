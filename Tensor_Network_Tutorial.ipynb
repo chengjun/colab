{
  "nbformat": 4,
  "nbformat_minor": 0,
  "metadata": {
    "colab": {
      "name": "Tensor Network Tutorial",
      "provenance": [],
      "collapsed_sections": [],
      "include_colab_link": true
    },
    "kernelspec": {
      "name": "python3",
      "display_name": "Python 3"
    }
  },
  "cells": [
    {
      "cell_type": "markdown",
      "metadata": {
        "id": "view-in-github",
        "colab_type": "text"
      },
      "source": [
        "<a href=\"https://colab.research.google.com/github/chengjun/colab/blob/main/Tensor_Network_Tutorial.ipynb\" target=\"_parent\"><img src=\"https://colab.research.google.com/assets/colab-badge.svg\" alt=\"Open In Colab\"/></a>"
      ]
    },
    {
      "cell_type": "code",
      "metadata": {
        "id": "F41jzPsm_9tZ",
        "colab": {
          "base_uri": "https://localhost:8080/"
        },
        "outputId": "f4e997e5-6c1f-4b29-c341-c4368a6343d1"
      },
      "source": [
        "!pip install tensornetwork jax jaxlib\n",
        "import numpy as np\n",
        "import jax\n",
        "import tensornetwork as tn"
      ],
      "execution_count": 1,
      "outputs": [
        {
          "output_type": "stream",
          "text": [
            "Collecting tensornetwork\n",
            "\u001b[?25l  Downloading https://files.pythonhosted.org/packages/c4/1b/0221d78680ee298d828ac8b55f7fc7424882f0dec4fde0eeed43ea260798/tensornetwork-0.4.5-py3-none-any.whl (363kB)\n",
            "\r\u001b[K     |█                               | 10kB 17.4MB/s eta 0:00:01\r\u001b[K     |█▉                              | 20kB 22.1MB/s eta 0:00:01\r\u001b[K     |██▊                             | 30kB 17.4MB/s eta 0:00:01\r\u001b[K     |███▋                            | 40kB 14.7MB/s eta 0:00:01\r\u001b[K     |████▌                           | 51kB 5.4MB/s eta 0:00:01\r\u001b[K     |█████▍                          | 61kB 5.9MB/s eta 0:00:01\r\u001b[K     |██████▎                         | 71kB 6.2MB/s eta 0:00:01\r\u001b[K     |███████▏                        | 81kB 6.1MB/s eta 0:00:01\r\u001b[K     |████████                        | 92kB 6.3MB/s eta 0:00:01\r\u001b[K     |█████████                       | 102kB 6.6MB/s eta 0:00:01\r\u001b[K     |██████████                      | 112kB 6.6MB/s eta 0:00:01\r\u001b[K     |██████████▉                     | 122kB 6.6MB/s eta 0:00:01\r\u001b[K     |███████████▊                    | 133kB 6.6MB/s eta 0:00:01\r\u001b[K     |████████████▋                   | 143kB 6.6MB/s eta 0:00:01\r\u001b[K     |█████████████▌                  | 153kB 6.6MB/s eta 0:00:01\r\u001b[K     |██████████████▍                 | 163kB 6.6MB/s eta 0:00:01\r\u001b[K     |███████████████▎                | 174kB 6.6MB/s eta 0:00:01\r\u001b[K     |████████████████▏               | 184kB 6.6MB/s eta 0:00:01\r\u001b[K     |█████████████████▏              | 194kB 6.6MB/s eta 0:00:01\r\u001b[K     |██████████████████              | 204kB 6.6MB/s eta 0:00:01\r\u001b[K     |███████████████████             | 215kB 6.6MB/s eta 0:00:01\r\u001b[K     |███████████████████▉            | 225kB 6.6MB/s eta 0:00:01\r\u001b[K     |████████████████████▊           | 235kB 6.6MB/s eta 0:00:01\r\u001b[K     |█████████████████████▋          | 245kB 6.6MB/s eta 0:00:01\r\u001b[K     |██████████████████████▌         | 256kB 6.6MB/s eta 0:00:01\r\u001b[K     |███████████████████████▍        | 266kB 6.6MB/s eta 0:00:01\r\u001b[K     |████████████████████████▎       | 276kB 6.6MB/s eta 0:00:01\r\u001b[K     |█████████████████████████▎      | 286kB 6.6MB/s eta 0:00:01\r\u001b[K     |██████████████████████████▏     | 296kB 6.6MB/s eta 0:00:01\r\u001b[K     |███████████████████████████     | 307kB 6.6MB/s eta 0:00:01\r\u001b[K     |████████████████████████████    | 317kB 6.6MB/s eta 0:00:01\r\u001b[K     |████████████████████████████▉   | 327kB 6.6MB/s eta 0:00:01\r\u001b[K     |█████████████████████████████▊  | 337kB 6.6MB/s eta 0:00:01\r\u001b[K     |██████████████████████████████▋ | 348kB 6.6MB/s eta 0:00:01\r\u001b[K     |███████████████████████████████▌| 358kB 6.6MB/s eta 0:00:01\r\u001b[K     |████████████████████████████████| 368kB 6.6MB/s \n",
            "\u001b[?25hRequirement already satisfied: jax in /usr/local/lib/python3.7/dist-packages (0.2.13)\n",
            "Requirement already satisfied: jaxlib in /usr/local/lib/python3.7/dist-packages (0.1.66+cuda110)\n",
            "Requirement already satisfied: h5py>=2.9.0 in /usr/local/lib/python3.7/dist-packages (from tensornetwork) (3.1.0)\n",
            "Requirement already satisfied: scipy>=1.1 in /usr/local/lib/python3.7/dist-packages (from tensornetwork) (1.4.1)\n",
            "Collecting graphviz>=0.11.1\n",
            "  Downloading https://files.pythonhosted.org/packages/86/86/89ba50ba65928001d3161f23bfa03945ed18ea13a1d1d44a772ff1fa4e7a/graphviz-0.16-py2.py3-none-any.whl\n",
            "Requirement already satisfied: numpy>=1.17 in /usr/local/lib/python3.7/dist-packages (from tensornetwork) (1.19.5)\n",
            "Requirement already satisfied: opt-einsum>=2.3.0 in /usr/local/lib/python3.7/dist-packages (from tensornetwork) (3.3.0)\n",
            "Requirement already satisfied: absl-py in /usr/local/lib/python3.7/dist-packages (from jax) (0.12.0)\n",
            "Requirement already satisfied: flatbuffers in /usr/local/lib/python3.7/dist-packages (from jaxlib) (1.12)\n",
            "Requirement already satisfied: cached-property; python_version < \"3.8\" in /usr/local/lib/python3.7/dist-packages (from h5py>=2.9.0->tensornetwork) (1.5.2)\n",
            "Requirement already satisfied: six in /usr/local/lib/python3.7/dist-packages (from absl-py->jax) (1.15.0)\n",
            "Installing collected packages: graphviz, tensornetwork\n",
            "  Found existing installation: graphviz 0.10.1\n",
            "    Uninstalling graphviz-0.10.1:\n",
            "      Successfully uninstalled graphviz-0.10.1\n",
            "Successfully installed graphviz-0.16 tensornetwork-0.4.5\n"
          ],
          "name": "stdout"
        }
      ]
    },
    {
      "cell_type": "markdown",
      "metadata": {
        "id": "DaWIxu_4aBNj"
      },
      "source": [
        "# Section 1: Basic usage.\n",
        "In this section, we will go over basic linear algebra operations and how to create them using a TensorNetwork. While at first it may seem more complicated to use a tensornetwork rather than just doing the operations by hand, we will use the skills developed in this section to start building and contracting very complicated tensor networks that would be very difficult to do otherwise."
      ]
    },
    {
      "cell_type": "markdown",
      "metadata": {
        "id": "T4i5M1zLbbsL"
      },
      "source": [
        "Let's begin by doing the most basic operation possible, a vector dot."
      ]
    },
    {
      "cell_type": "code",
      "metadata": {
        "id": "R_9ZTrSoAah3",
        "colab": {
          "base_uri": "https://localhost:8080/"
        },
        "outputId": "18339952-d6d8-4748-c85c-0e40c185090c"
      },
      "source": [
        "# Next, we add the nodes containing our vectors.\n",
        "a = tn.Node(np.ones(10))\n",
        "# Either tensorflow tensors or numpy arrays are fine.\n",
        "b = tn.Node(np.ones(10))\n",
        "# We \"connect\" these two nodes by their \"0th\" edges.\n",
        "# This line is equal to doing `tn.connect(a[0], b[0])\n",
        "# but doing it this way is much shorter.\n",
        "edge = a[0] ^ b[0]\n",
        "# Finally, we contract the edge, giving us our new node with a tensor\n",
        "# equal to the inner product of the two earlier vectors\n",
        "c = tn.contract(edge)\n",
        "# You can access the underlying tensor of the node via `node.tensor`.\n",
        "# To convert a Eager mode tensorflow tensor into \n",
        "print(c.tensor)"
      ],
      "execution_count": 2,
      "outputs": [
        {
          "output_type": "stream",
          "text": [
            "10.0\n"
          ],
          "name": "stdout"
        }
      ]
    },
    {
      "cell_type": "markdown",
      "metadata": {
        "id": "gf_tCdk7lNeN"
      },
      "source": [
        "## Edge-centric connection.\n",
        "When a node is created in the TensorNetwork, that node is automatically filled with dangling-edges. To connect two nodes together, we actually remove the two danging edges in the nodes and replace them with a standard/trace edge."
      ]
    },
    {
      "cell_type": "code",
      "metadata": {
        "id": "cLuYsq_clLTA",
        "colab": {
          "base_uri": "https://localhost:8080/"
        },
        "outputId": "0d96d6a4-3e50-4605-e28c-84ec284af55a"
      },
      "source": [
        "a = tn.Node(np.eye(2))\n",
        "# Notice that a[0] is actually an \"Edge\" type.\n",
        "print(\"The type of a[0] is:\", type(a[0]))\n",
        "# This is a dangling edge, so this method will \n",
        "print(\"Is a[0] dangling?:\", a[0].is_dangling())"
      ],
      "execution_count": 3,
      "outputs": [
        {
          "output_type": "stream",
          "text": [
            "The type of a[0] is: <class 'tensornetwork.network_components.Edge'>\n",
            "Is a[0] dangling?: True\n"
          ],
          "name": "stdout"
        }
      ]
    },
    {
      "cell_type": "markdown",
      "metadata": {
        "id": "ySDV2F3lm5_S"
      },
      "source": [
        "Now, let's connect a[0] to a[1]. This will create a \"trace\" edge."
      ]
    },
    {
      "cell_type": "code",
      "metadata": {
        "id": "L1BBz3Zymuea",
        "colab": {
          "base_uri": "https://localhost:8080/"
        },
        "outputId": "47c0fd0a-aba6-46eb-d810-12b62ea2b8db"
      },
      "source": [
        "trace_edge = a[0] ^ a[1]\n",
        "# Notice now that a[0] and a[1] are actually the same edge.\n",
        "print(\"Are a[0] and a[1] the same edge?:\", a[0] is a[1])\n",
        "print(\"Is a[0] dangling?:\", a[0].is_dangling())"
      ],
      "execution_count": 4,
      "outputs": [
        {
          "output_type": "stream",
          "text": [
            "Are a[0] and a[1] the same edge?: True\n",
            "Is a[0] dangling?: False\n"
          ],
          "name": "stdout"
        }
      ]
    },
    {
      "cell_type": "markdown",
      "metadata": {
        "id": "9cW-IWA_l0By"
      },
      "source": [
        "## Axis naming.\n",
        "Sometimes, using the axis number is very inconvient and it can be hard to keep track of the purpose of certain edges. To make it easier, you can optionally add a name to each of the axes of your node. Then you can get the respective edge by indexing using the name instead of the number."
      ]
    },
    {
      "cell_type": "code",
      "metadata": {
        "id": "M0k91fG9A-nc",
        "colab": {
          "base_uri": "https://localhost:8080/"
        },
        "outputId": "4fba02a1-a91b-471c-df65-e69cfbc4b296"
      },
      "source": [
        "# Here, a[0] is a['alpha'] and a[1] is a['beta']\n",
        "a = tn.Node(np.eye(2), axis_names=['alpha', 'beta'])\n",
        "edge = a['alpha'] ^ a['beta']\n",
        "result = tn.contract(edge)\n",
        "print(result.tensor)"
      ],
      "execution_count": 5,
      "outputs": [
        {
          "output_type": "stream",
          "text": [
            "2.0\n"
          ],
          "name": "stdout"
        }
      ]
    },
    {
      "cell_type": "markdown",
      "metadata": {
        "id": "srvhkdXyq93b"
      },
      "source": [
        "# Section 2. Advanced Network Contractions"
      ]
    },
    {
      "cell_type": "markdown",
      "metadata": {
        "id": "MgEhqwUV0tmd"
      },
      "source": [
        "## Avoid trace edges.\n",
        "While the TensorNetwork library fully supports trace edges, contraction time is ALWAYS faster if you avoid creating them. This is because trace edges only sum the diagonal of the underlying matrix, and the rest of the values (which is a majorit of the total values) are just garbage. You both waste compute time and memory by having these useless trace edges.\n",
        "\n",
        "The main way we support avoid trace edges is via the `@` symbol, which is an alias to `tn.contract_between`. Take a look at the speedups!"
      ]
    },
    {
      "cell_type": "code",
      "metadata": {
        "id": "nqlIH0wOqvd0",
        "colab": {
          "base_uri": "https://localhost:8080/"
        },
        "outputId": "e2920453-66bd-42f0-cdfc-8a92b02f7e00"
      },
      "source": [
        "def one_edge_at_a_time(a, b):\n",
        "  node1 = tn.Node(a)\n",
        "  node2 = tn.Node(b)\n",
        "  edge1 = node1[0] ^ node2[0]\n",
        "  edge2 = node1[1] ^ node2[1]\n",
        "  tn.contract(edge1)\n",
        "  result = tn.contract(edge2)\n",
        "  return result.tensor\n",
        "\n",
        "def use_contract_between(a, b):\n",
        "  node1 = tn.Node(a)\n",
        "  node2 = tn.Node(b)\n",
        "  node1[0] ^ node2[0]\n",
        "  node1[1] ^ node2[1]\n",
        "  # This is the same as \n",
        "  # tn.contract_between(node1, node2)\n",
        "  result = node1 @ node2\n",
        "  return result.tensor\n",
        "\n",
        "a = np.ones((1000, 1000))\n",
        "b = np.ones((1000, 1000))\n",
        "print(\"Running one_edge_at_a_time\")\n",
        "%timeit one_edge_at_a_time(a, b)\n",
        "print(\"Running use_cotract_between\")\n",
        "%timeit use_contract_between(a, b)"
      ],
      "execution_count": 6,
      "outputs": [
        {
          "output_type": "stream",
          "text": [
            "Running one_edge_at_a_time\n",
            "10 loops, best of 5: 65.7 ms per loop\n",
            "Running use_cotract_between\n",
            "1000 loops, best of 5: 1.25 ms per loop\n"
          ],
          "name": "stdout"
        }
      ]
    },
    {
      "cell_type": "markdown",
      "metadata": {
        "id": "CFgUTwnt3Umg"
      },
      "source": [
        "We also have `contract_parallel` which does the same thing as `contract_between`, only you pass a single edge instead of two nodes. This will contract all of the edges \"parallel\" to the given edge (meaning all of the edges that share the same two nodes as the given edge).\n",
        "\n",
        "Using either method is fine and they will do the exact same thing. In fact, if you look at the source code, `contract_parallel` actually just calls `contract_between`. :)"
      ]
    },
    {
      "cell_type": "code",
      "metadata": {
        "id": "aYXoLPNA22fm",
        "colab": {
          "base_uri": "https://localhost:8080/"
        },
        "outputId": "ab7e036a-188a-4956-b39f-923da06e0a93"
      },
      "source": [
        "def use_contract_parallel(a, b):\n",
        "  node1 = tn.Node(a)\n",
        "  node2 = tn.Node(b)\n",
        "  edge = node1[0] ^ node2[0]\n",
        "  node1[1] ^ node2[1]\n",
        "  result = tn.contract_parallel(edge)\n",
        "  # You can use `get_final_node` to make sure your network \n",
        "  # is fully contracted.\n",
        "  return result.tensor\n",
        "\n",
        "print(\"Running contract_parallel\")\n",
        "%timeit use_contract_parallel(a, b)"
      ],
      "execution_count": 7,
      "outputs": [
        {
          "output_type": "stream",
          "text": [
            "Running contract_parallel\n",
            "1000 loops, best of 5: 1.27 ms per loop\n"
          ],
          "name": "stdout"
        }
      ]
    },
    {
      "cell_type": "markdown",
      "metadata": {
        "id": "eyUb_CyaZqmv"
      },
      "source": [
        "## Complex Contraction.\n",
        "Remember this crazy hard to write tensor contraction?\n",
        "Well, we're gonna do it in about 13 lines of simple code."
      ]
    },
    {
      "cell_type": "code",
      "metadata": {
        "id": "OzAlIQ9eyv8Z",
        "colab": {
          "base_uri": "https://localhost:8080/"
        },
        "outputId": "f85ec375-e840-4521-e5fb-1e6cf11be17f"
      },
      "source": [
        "# Here, we will contract the following shaped network.\n",
        "# O - O\n",
        "# | X |\n",
        "# O - O\n",
        "a = tn.Node(np.ones((2, 2, 2)))\n",
        "b = tn.Node(np.ones((2, 2, 2)))\n",
        "c = tn.Node(np.ones((2, 2, 2)))\n",
        "d = tn.Node(np.ones((2, 2, 2)))\n",
        "# Make the network fully connected.\n",
        "a[0] ^ b[0]\n",
        "a[1] ^ c[1]\n",
        "a[2] ^ d[2]\n",
        "b[1] ^ d[1]\n",
        "b[2] ^ c[2]\n",
        "c[0] ^ d[0]\n",
        "# We are using the \"greedy\" contraction algorithm.\n",
        "# Other algorithms we support include \"optimal\" and \"branch\".\n",
        "\n",
        "# Finding the optimial contraction order in the general case is NP-Hard,\n",
        "# so there is no single algorithm that will work for every tensor network.\n",
        "# However, there are certain kinds of networks that have nice properties that\n",
        "# we can expliot to making finding a good contraction order easier.\n",
        "# These types of contraction algorithms are in developement, and we welcome \n",
        "# PRs!\n",
        "\n",
        "# `tn.reachable` will do a BFS to get all of the nodes reachable from a given\n",
        "# node or set of nodes.\n",
        "# nodes = {a, b, c, d}\n",
        "nodes = tn.reachable(a)\n",
        "result = tn.contractors.greedy(nodes)\n",
        "print(result.tensor)\n"
      ],
      "execution_count": 8,
      "outputs": [
        {
          "output_type": "stream",
          "text": [
            "64.0\n"
          ],
          "name": "stdout"
        }
      ]
    },
    {
      "cell_type": "code",
      "metadata": {
        "id": "6xZybTdRVaeq",
        "colab": {
          "base_uri": "https://localhost:8080/"
        },
        "outputId": "d8d1d1d3-57d9-4240-891b-d1877035b28f"
      },
      "source": [
        "# To make connecting a network a little less verbose, we have included\n",
        "# the NCon API aswell.\n",
        "\n",
        "# This example is the same as above.\n",
        "ones = np.ones((2, 2, 2))\n",
        "tn.ncon([ones, ones, ones, ones], \n",
        "        [[1, 2, 4], \n",
        "         [1, 3, 5], \n",
        "         [2, 3, 6],\n",
        "         [4, 5, 6]])"
      ],
      "execution_count": 9,
      "outputs": [
        {
          "output_type": "execute_result",
          "data": {
            "text/plain": [
              "array(64.)"
            ]
          },
          "metadata": {
            "tags": []
          },
          "execution_count": 9
        }
      ]
    },
    {
      "cell_type": "code",
      "metadata": {
        "id": "2x1GbZcYWTrT",
        "colab": {
          "base_uri": "https://localhost:8080/"
        },
        "outputId": "ffad7dd8-2930-41bf-f31f-80e075816d42"
      },
      "source": [
        "# To specify dangling edges, simply use a negative number on that index.\n",
        "\n",
        "ones = np.ones((2, 2))\n",
        "tn.ncon([ones, ones], [[-1, 1], [1, -2]])"
      ],
      "execution_count": 10,
      "outputs": [
        {
          "output_type": "execute_result",
          "data": {
            "text/plain": [
              "array([[2., 2.],\n",
              "       [2., 2.]])"
            ]
          },
          "metadata": {
            "tags": []
          },
          "execution_count": 10
        }
      ]
    },
    {
      "cell_type": "markdown",
      "metadata": {
        "id": "7SQz6EzVuOnk"
      },
      "source": [
        "# Section 3: Node splitting.\n",
        "In the final part of this colab, will go over the SVD node splitting methods."
      ]
    },
    {
      "cell_type": "code",
      "metadata": {
        "id": "hVOluV8-4YPD"
      },
      "source": [
        "# To make the singular values very apparent, we will just take the SVD of a\n",
        "# diagonal matrix.\n",
        "diagonal_array = np.array([[2.0, 0.0, 0.0],\n",
        "                           [0.0, 2.5, 0.0],\n",
        "                           [0.0, 0.0, 1.5]]) "
      ],
      "execution_count": 11,
      "outputs": []
    },
    {
      "cell_type": "code",
      "metadata": {
        "id": "DUc-1xWnwcDY",
        "colab": {
          "base_uri": "https://localhost:8080/"
        },
        "outputId": "32db6b96-03ad-4e21-f819-24acffdb23c0"
      },
      "source": [
        "# First, we will go over the simple split_node method.\n",
        "a = tn.Node(diagonal_array)\n",
        "u, vh, _ = tn.split_node(\n",
        "    a, left_edges=[a[0]], right_edges=[a[1]])\n",
        "print(\"U node\")\n",
        "print(u.tensor)\n",
        "print()\n",
        "print(\"V* node\")\n",
        "print(vh.tensor)\n"
      ],
      "execution_count": 12,
      "outputs": [
        {
          "output_type": "stream",
          "text": [
            "U node\n",
            "[[0.         1.41421356 0.        ]\n",
            " [1.58113883 0.         0.        ]\n",
            " [0.         0.         1.22474487]]\n",
            "\n",
            "V* node\n",
            "[[0.         1.58113883 0.        ]\n",
            " [1.41421356 0.         0.        ]\n",
            " [0.         0.         1.22474487]]\n"
          ],
          "name": "stdout"
        }
      ]
    },
    {
      "cell_type": "code",
      "metadata": {
        "id": "DGlRgZq82LP2",
        "colab": {
          "base_uri": "https://localhost:8080/"
        },
        "outputId": "34442d7d-ac99-4b15-f9b7-71ed3b925c15"
      },
      "source": [
        "# Now, we can contract u and vh to get back our original tensor!\n",
        "print(\"Contraction of U and V*:\")\n",
        "print((u @ vh).tensor)"
      ],
      "execution_count": 13,
      "outputs": [
        {
          "output_type": "stream",
          "text": [
            "Contraction of U and V*:\n",
            "[[2.  0.  0. ]\n",
            " [0.  2.5 0. ]\n",
            " [0.  0.  1.5]]\n"
          ],
          "name": "stdout"
        }
      ]
    },
    {
      "cell_type": "markdown",
      "metadata": {
        "id": "TkBXbOC65qnj"
      },
      "source": [
        "We can also drop the lowest singular values in 2 ways, \n",
        "1. By setting `max_singular_values`. This is the maximum number of the original\n",
        "singular values that we want to keep.\n",
        "2. By setting `max_trun_error`. This is the maximum amount the sum of the removed singular values can be."
      ]
    },
    {
      "cell_type": "code",
      "metadata": {
        "id": "jQZQn4T32YJ3",
        "colab": {
          "base_uri": "https://localhost:8080/"
        },
        "outputId": "64ec14c5-3d64-4c15-a12e-d12e1d1f7545"
      },
      "source": [
        "# We can also drop the lowest singular values in 2 ways, \n",
        "# 1. By setting max_singular_values. This is the maximum number of the original\n",
        "# singular values that we want to keep.\n",
        "a = tn.Node(diagonal_array)\n",
        "u, vh, truncation_error = tn.split_node(\n",
        "    a, left_edges=[a[0]], right_edges=[a[1]], max_singular_values=2)\n",
        "# Notice how the two largest singular values (2.0 and 2.5) remain\n",
        "# but the smallest singular value (1.5) is removed.\n",
        "print((u @ vh).tensor)"
      ],
      "execution_count": 14,
      "outputs": [
        {
          "output_type": "stream",
          "text": [
            "[[2.  0.  0. ]\n",
            " [0.  2.5 0. ]\n",
            " [0.  0.  0. ]]\n"
          ],
          "name": "stdout"
        }
      ]
    },
    {
      "cell_type": "markdown",
      "metadata": {
        "id": "QYXIXUYY3nf7"
      },
      "source": [
        "We can see the values of the removed singular values by looking at the returned `truncation_error`"
      ]
    },
    {
      "cell_type": "code",
      "metadata": {
        "id": "PXL9HSmJ3OWe",
        "colab": {
          "base_uri": "https://localhost:8080/"
        },
        "outputId": "d40af857-57d8-410b-b64f-1df2888e9edc"
      },
      "source": [
        "# truncation_error is just a normal tensorflow tensor.\n",
        "print(truncation_error)"
      ],
      "execution_count": 15,
      "outputs": [
        {
          "output_type": "stream",
          "text": [
            "[1.5]\n"
          ],
          "name": "stdout"
        }
      ]
    },
    {
      "cell_type": "markdown",
      "metadata": {
        "id": "ycqQuPYSEnP2"
      },
      "source": [
        "# Section 4: running on GPUs\n",
        "\n",
        "To get this running on a GPU, we recommend using the JAX backend, as it has nearly the exact same API as numpy.\n",
        "\n",
        "To get a GPU, go to Runtime -> Change runtime type -> GPU"
      ]
    },
    {
      "cell_type": "code",
      "metadata": {
        "id": "vQKueu8aEqwM",
        "colab": {
          "base_uri": "https://localhost:8080/",
          "height": 119
        },
        "outputId": "862514f1-d44e-480c-fcc9-161cc379cedd"
      },
      "source": [
        "def calculate_abc_trace(a, b, c):\n",
        "  an = tn.Node(a)\n",
        "  bn = tn.Node(b)\n",
        "  cn = tn.Node(c)\n",
        "  an[1] ^ bn[0]\n",
        "  bn[1] ^ cn[0]\n",
        "  cn[1] ^ an[0]\n",
        "  return (an @ bn @ cn).tensor\n",
        "\n",
        "a = np.ones((4096, 4096))\n",
        "b = np.ones((4096, 4096))\n",
        "c = np.ones((4096, 4096))\n",
        "\n",
        "tn.set_default_backend(\"numpy\")\n",
        "print(\"Numpy Backend\")\n",
        "%timeit calculate_abc_trace(a, b, c)\n",
        "tn.set_default_backend(\"jax\")\n",
        "# Running with a GPU: 202 ms\n",
        "# Running with a CPU: 2960 ms\n",
        "print(\"JAX Backend\")\n",
        "%timeit np.array(calculate_abc_trace(a, b, c))"
      ],
      "execution_count": null,
      "outputs": [
        {
          "output_type": "stream",
          "text": [
            "Numpy Backend\n",
            "1 loop, best of 3: 5.46 s per loop\n",
            "JAX Backend\n"
          ],
          "name": "stdout"
        },
        {
          "output_type": "stream",
          "text": [
            "/usr/local/lib/python3.6/dist-packages/jax/lib/xla_bridge.py:115: UserWarning: No GPU/TPU found, falling back to CPU.\n",
            "  warnings.warn('No GPU/TPU found, falling back to CPU.')\n"
          ],
          "name": "stderr"
        },
        {
          "output_type": "stream",
          "text": [
            "1 loop, best of 3: 2.96 s per loop\n"
          ],
          "name": "stdout"
        }
      ]
    },
    {
      "cell_type": "code",
      "metadata": {
        "id": "GaJpprAMWI7S"
      },
      "source": [
        ""
      ],
      "execution_count": null,
      "outputs": []
    }
  ]
}